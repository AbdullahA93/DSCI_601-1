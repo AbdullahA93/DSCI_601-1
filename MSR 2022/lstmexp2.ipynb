{
  "nbformat": 4,
  "nbformat_minor": 0,
  "metadata": {
    "accelerator": "GPU",
    "colab": {
      "name": "lstmexp2.ipynb",
      "provenance": []
    },
    "kernelspec": {
      "display_name": "Python 3",
      "name": "python3"
    },
    "language_info": {
      "name": "python"
    }
  },
  "cells": [
    {
      "cell_type": "code",
      "metadata": {
        "id": "QJoLTDoSmUDn"
      },
      "source": [
        "# Importing the necessary libraries\n",
        "import numpy as np # linear algebra\n",
        "import pandas as pd # data processing, CSV file I/O (e.g. pd.read_csv)\n",
        "from keras.models import Sequential\n",
        "from keras.layers import Dense, Embedding, LSTM, SpatialDropout1D, Dropout, Bidirectional, Input, BatchNormalization, CuDNNGRU, CuDNNLSTM\n",
        "from sklearn.metrics import accuracy_score,confusion_matrix,classification_report,f1_score\n",
        "from tensorflow.keras.optimizers import Adam\n",
        "from keras import backend as K\n",
        "from tensorflow.keras.layers import Layer\n",
        "from keras import initializers, regularizers, constraints\n",
        "from keras.utils.vis_utils import plot_model\n",
        "from keras.callbacks import ReduceLROnPlateau, EarlyStopping, ModelCheckpoint"
      ],
      "execution_count": null,
      "outputs": []
    },
    {
      "cell_type": "code",
      "metadata": {
        "id": "So6LXXCXmbkB"
      },
      "source": [
        "x_train = pd.read_csv(r'/content/Train_Features.csv', index_col=0)\n",
        "y_train = pd.read_csv(r'/content/Train_Labels.csv', index_col=0)\n",
        "x_test = pd.read_csv(r'/content/Test_Features.csv', index_col=0)\n",
        "y_test = pd.read_csv(r'/content/Test_Labels.csv', index_col=0)"
      ],
      "execution_count": null,
      "outputs": []
    },
    {
      "cell_type": "code",
      "metadata": {
        "id": "EBIo5iwMmfm5"
      },
      "source": [
        "categories = list(y_train.columns)\n",
        "print(categories)\n",
        "print(y_test.sum())"
      ],
      "execution_count": null,
      "outputs": []
    },
    {
      "cell_type": "code",
      "metadata": {
        "id": "fnHQ2U6gqqw9"
      },
      "source": [
        "lstm_out = 196\n",
        "\n",
        "model = Sequential()\n",
        "model.add(Embedding(1000, 32, input_length = x_train.shape[1]))\n",
        "model.add(SpatialDropout1D(0.4))\n",
        "model.add(Dense(2000, activation='relu'))\n",
        "model.add(Dropout(0.5))\n",
        "model.add(LSTM(lstm_out, dropout=0.5, recurrent_dropout=0.2))\n",
        "model.add(Dense(600, activation='relu'))\n",
        "model.add(Dropout(0.5))\n",
        "model.add(Dense(100, activation='relu'))\n",
        "model.add(Dropout(0.5))\n",
        "model.add(Dense(10, activation='sigmoid'))\n",
        "\n",
        "model.compile(loss='binary_crossentropy', optimizer='adam', metrics=['accuracy'])\n",
        "\n",
        "print(model.summary())"
      ],
      "execution_count": null,
      "outputs": []
    },
    {
      "cell_type": "code",
      "metadata": {
        "id": "e4E4d0nvv3Iz"
      },
      "source": [
        "plot_model(model, to_file='model_plot.png', show_shapes=True, show_layer_names=True)"
      ],
      "execution_count": null,
      "outputs": []
    },
    {
      "cell_type": "code",
      "metadata": {
        "id": "8OSjsHB4wtwj"
      },
      "source": [
        "callbacks = [\n",
        "    ReduceLROnPlateau(), \n",
        "    EarlyStopping(patience=4), \n",
        "    ModelCheckpoint(filepath='model-conv1d.h5', save_best_only=True)\n",
        "]"
      ],
      "execution_count": null,
      "outputs": []
    },
    {
      "cell_type": "code",
      "metadata": {
        "id": "Sc4jO1-nwhll"
      },
      "source": [
        "history = model.fit(x_train, y_train,\n",
        "                    epochs=20,\n",
        "                    verbose=True,\n",
        "                    validation_data=(x_test, y_test),\n",
        "                    batch_size=10)"
      ],
      "execution_count": null,
      "outputs": []
    },
    {
      "cell_type": "code",
      "metadata": {
        "id": "cuC0w_rqwmqU"
      },
      "source": [
        "loss, accuracy = model.evaluate(x_train, y_train, verbose=False)\n",
        "print(\"Training Accuracy: {:.4f}\".format(accuracy))\n",
        "loss, accuracy = model.evaluate(x_test, y_test, verbose=False)\n",
        "print(\"Testing Accuracy:  {:.4f}\".format(accuracy))"
      ],
      "execution_count": null,
      "outputs": []
    }
  ]
}