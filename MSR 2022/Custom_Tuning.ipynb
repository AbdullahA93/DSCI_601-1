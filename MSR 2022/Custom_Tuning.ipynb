{
 "cells": [
  {
   "cell_type": "code",
   "execution_count": 1,
   "metadata": {},
   "outputs": [],
   "source": [
    "from sklearn.model_selection import RandomizedSearchCV\n",
    "import numpy as np\n",
    "import pandas as pd\n",
    "import re\n",
    "import nltk\n",
    "from sklearn.model_selection import GridSearchCV\n",
    "\n",
    "from nltk.corpus import stopwords\n",
    "from nltk.stem import WordNetLemmatizer \n",
    "import string\n",
    "from sklearn.preprocessing import MultiLabelBinarizer\n",
    "from sklearn.feature_extraction.text import TfidfVectorizer\n",
    "from sklearn.model_selection import train_test_split\n",
    "from sklearn.pipeline import Pipeline\n",
    "from skmultilearn.problem_transform import ClassifierChain\n",
    "from sklearn.metrics import classification_report\n",
    "from sklearn.metrics import accuracy_score\n",
    "from sklearn.metrics import f1_score\n",
    "from sklearn.metrics import recall_score\n",
    "from sklearn.metrics import precision_score\n",
    "from sklearn.multiclass import OneVsRestClassifier\n",
    "from sklearn.naive_bayes import MultinomialNB\n",
    "from sklearn.svm import LinearSVC\n",
    "from sklearn.linear_model import SGDClassifier,LogisticRegression\n",
    "from sklearn.neural_network import MLPClassifier\n",
    "from imblearn.over_sampling import SMOTE\n",
    "%matplotlib inline\n",
    "from sklearn import tree\n",
    "import matplotlib\n",
    "from collections import Counter\n",
    "import matplotlib.pyplot as plt\n",
    "from sklearn.ensemble import RandomForestClassifier\n",
    "from sklearn import svm\n",
    "from sklearn.model_selection import GridSearchCV\n",
    "from sklearn.model_selection import cross_val_score\n",
    "from pprint import pprint\n",
    "\n",
    "from keras.models import Sequential"
   ]
  },
  {
   "cell_type": "code",
   "execution_count": 2,
   "metadata": {},
   "outputs": [],
   "source": [
    "X_train = pd.read_csv(r'C:\\Users\\GEM001\\DSCI_601-1\\MSR 2022\\Train_Features.csv', index_col=0)\n",
    "y_train = pd.read_csv(r'C:\\Users\\GEM001\\DSCI_601-1\\MSR 2022\\Train_Labels.csv', index_col=0)\n",
    "X_test = pd.read_csv(r'C:\\Users\\GEM001\\DSCI_601-1\\MSR 2022\\Test_Features.csv', index_col=0)\n",
    "y_test = pd.read_csv(r'C:\\Users\\GEM001\\DSCI_601-1\\MSR 2022\\Test_Labels.csv', index_col=0)"
   ]
  },
  {
   "cell_type": "code",
   "execution_count": 3,
   "metadata": {},
   "outputs": [
    {
     "name": "stdout",
     "output_type": "stream",
     "text": [
      "['Change Attribute Type', 'Change Parameter Type', 'Change Return Type', 'Change Variable Type', 'Move Class', 'Rename Attribute', 'Rename Class', 'Rename Method', 'Rename Parameter', 'Rename Variable']\n",
      "Change Attribute Type    409\n",
      "Change Parameter Type    345\n",
      "Change Return Type       322\n",
      "Change Variable Type     409\n",
      "Move Class               262\n",
      "Rename Attribute         280\n",
      "Rename Class             243\n",
      "Rename Method            376\n",
      "Rename Parameter         318\n",
      "Rename Variable          386\n",
      "dtype: int64\n"
     ]
    }
   ],
   "source": [
    "categories = list(y_train.columns)\n",
    "print(categories)\n",
    "print(y_test.sum())"
   ]
  },
  {
   "cell_type": "code",
   "execution_count": null,
   "metadata": {},
   "outputs": [
    {
     "name": "stdout",
     "output_type": "stream",
     "text": [
      "the parameter of best model is n_estimators = 200 min_samples_split = 2 min_samples_leaf = 1 max_features = auto max_depth = 10 bootstrap = True the f1_score is 0.5106918238993711\n"
     ]
    }
   ],
   "source": [
    "max_features = ['auto', 'sqrt']\n",
    "bootstrap = [True, False]\n",
    "min_samples_split = [2, 5, 10]\n",
    "min_samples_leaf = [1, 2, 4]\n",
    "n_estimators = [int(x) for x in np.linspace(start = 200, stop = 2000, num = 10)]\n",
    "max_depth = [int(x) for x in np.linspace(10, 110, num = 11)]\n",
    "max_depth.append(None)\n",
    "best_f1 = 0\n",
    "best_model = None\n",
    "for m in max_features:\n",
    "    for b in bootstrap:\n",
    "        for min_sp in min_samples_split:\n",
    "              for min_leaf in min_samples_leaf:\n",
    "                for n in n_estimators:\n",
    "                    for max_d in max_depth:\n",
    "                        classifier = ClassifierChain(RandomForestClassifier(\n",
    "                                    n_estimators= n,min_samples_split=min_sp,min_samples_leaf=min_leaf,max_features=m\n",
    "                                      ,max_depth=max_d,bootstrap=b))\n",
    "                        classifier.fit(X_train, y_train)\n",
    "                        predictions = classifier.predict(X_test)\n",
    "                        if f1_score(y_test,predictions,average='micro') >= best_f1:\n",
    "                            best_f1 = f1_score(y_test,predictions,average='micro')\n",
    "                            print(f'the parameter of best model is n_estimators = {n} min_samples_split = {min_sp} min_samples_leaf = {min_leaf} max_features = {m} max_depth = {max_d} bootstrap = {b} the f1_score is {best_f1}')\n",
    "                            best_model = classifier"
   ]
  },
  {
   "cell_type": "code",
   "execution_count": null,
   "metadata": {},
   "outputs": [],
   "source": []
  }
 ],
 "metadata": {
  "kernelspec": {
   "display_name": "Python 3 (ipykernel)",
   "language": "python",
   "name": "python3"
  },
  "language_info": {
   "codemirror_mode": {
    "name": "ipython",
    "version": 3
   },
   "file_extension": ".py",
   "mimetype": "text/x-python",
   "name": "python",
   "nbconvert_exporter": "python",
   "pygments_lexer": "ipython3",
   "version": "3.8.12"
  }
 },
 "nbformat": 4,
 "nbformat_minor": 4
}
